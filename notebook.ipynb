{
 "cells": [
  {
   "cell_type": "code",
   "execution_count": null,
   "id": "d17b70ba",
   "metadata": {
    "vscode": {
     "languageId": "plaintext"
    }
   },
   "outputs": [],
   "source": [
    "import pandas as pd\n",
    "import matplotlib.pyplot as plt\n",
    "import seaborn as sns\n",
    "# Memuat data\n",
    "data_hour = pd.read_csv('data/hour.csv')\n",
    "data_day = pd.read_csv('data/day.csv')\n",
    "\n",
    "# Menampilkan beberapa baris pertama untuk memastikan data dimuat dengan benar\n",
    "print(data_hour.head())\n",
    "print(data_day.head())\n",
    "# Memeriksa nilai yang hilang\n",
    "print(data_hour.isnull().sum())\n",
    "print(data_day.isnull().sum())\n",
    "\n",
    "# Menghapus nilai yang hilang (jika ada)\n",
    "data_hour.dropna(inplace=True)\n",
    "data_day.dropna(inplace=True)\n",
    "data_hour.drop_duplicates(inplace=True)\n",
    "data_day.drop_duplicates(inplace=True)\n",
    "print(data_hour.describe())\n",
    "print(data_day.describe())\n",
    "# Visualisasi distribusi total sepeda yang disewa berdasarkan jam (hour.csv)\n",
    "plt.figure(figsize=(10, 6))\n",
    "sns.histplot(data_hour['cnt'], kde=True)\n",
    "plt.title('Distribusi Sepeda yang Disewa per Jam')\n",
    "plt.xlabel('Jumlah Sewa')\n",
    "plt.ylabel('Frekuensi')\n",
    "plt.show()\n",
    "\n",
    "# Visualisasi distribusi total sepeda yang disewa berdasarkan hari (day.csv)\n",
    "plt.figure(figsize=(10, 6))\n",
    "sns.histplot(data_day['cnt'], kde=True)\n",
    "plt.title('Distribusi Sepeda yang Disewa per Hari')\n",
    "plt.xlabel('Jumlah Sewa')\n",
    "plt.ylabel('Frekuensi')\n",
    "plt.show()\n",
    "# Misalnya, kita hitung Recency berdasarkan tanggal terbaru\n",
    "data_day['dteday'] = pd.to_datetime(data_day['dteday'])\n",
    "last_date = data_day['dteday'].max()\n",
    "data_day['Recency'] = (last_date - data_day['dteday']).dt.days\n",
    "\n",
    "# Frequency dan Monetary bisa dihitung berdasarkan grup pengguna (casual vs registered)\n",
    "rfm = data_day.groupby('workingday').agg({'Recency': 'min', 'cnt': 'sum'})\n"
   ]
  }
 ],
 "metadata": {
  "language_info": {
   "name": "python"
  }
 },
 "nbformat": 4,
 "nbformat_minor": 5
}
